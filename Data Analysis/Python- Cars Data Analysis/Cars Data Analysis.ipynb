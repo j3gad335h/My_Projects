{
 "cells": [
  {
   "cell_type": "code",
   "execution_count": null,
   "id": "3164a054",
   "metadata": {},
   "outputs": [],
   "source": [
    "import pandas as pd"
   ]
  },
  {
   "cell_type": "code",
   "execution_count": null,
   "id": "b0461b47",
   "metadata": {},
   "outputs": [],
   "source": [
    "car=pd.read_csv(r\"C:\\Users\\Jegadeesh\\Downloads\\Cars data.csv\")"
   ]
  },
  {
   "cell_type": "code",
   "execution_count": null,
   "id": "24713603",
   "metadata": {},
   "outputs": [],
   "source": [
    "car.head()"
   ]
  },
  {
   "cell_type": "code",
   "execution_count": null,
   "id": "a4ec1098",
   "metadata": {},
   "outputs": [],
   "source": [
    "car.shape"
   ]
  },
  {
   "attachments": {},
   "cell_type": "markdown",
   "id": "e892f145",
   "metadata": {},
   "source": [
    "# Data Cleaning- Find all null value and give mean value to them"
   ]
  },
  {
   "cell_type": "code",
   "execution_count": null,
   "id": "dac77ed5",
   "metadata": {},
   "outputs": [],
   "source": [
    "car.isnull()"
   ]
  },
  {
   "cell_type": "raw",
   "id": "6e22d398",
   "metadata": {},
   "source": [
    "So here we cant find the null value in that case use\" car.isnull().sum() \" to find sum of the null value in each column."
   ]
  },
  {
   "cell_type": "code",
   "execution_count": null,
   "id": "cf548d16",
   "metadata": {},
   "outputs": [],
   "source": [
    "car.isnull().sum()"
   ]
  },
  {
   "cell_type": "raw",
   "id": "527c18df",
   "metadata": {},
   "source": [
    "So we have few empty rows thats why ot shows like this"
   ]
  },
  {
   "cell_type": "code",
   "execution_count": null,
   "id": "0f69ac41",
   "metadata": {},
   "outputs": [],
   "source": [
    "car.dropna(how=\"all\",inplace=True)"
   ]
  },
  {
   "cell_type": "code",
   "execution_count": null,
   "id": "b4ca6534",
   "metadata": {},
   "outputs": [],
   "source": [
    "car.isnull().sum()"
   ]
  },
  {
   "cell_type": "raw",
   "id": "2ec38205",
   "metadata": {},
   "source": [
    "So we need to fill Cylinder column with mean value ,inplace=true will make it permanent "
   ]
  },
  {
   "cell_type": "code",
   "execution_count": null,
   "id": "24fdbe12",
   "metadata": {},
   "outputs": [],
   "source": [
    "car['Cylinders'].fillna(car['Cylinders'].mean(),inplace=True)"
   ]
  },
  {
   "cell_type": "code",
   "execution_count": null,
   "id": "a2c5828b",
   "metadata": {},
   "outputs": [],
   "source": [
    "car.isnull().sum()"
   ]
  },
  {
   "cell_type": "code",
   "execution_count": null,
   "id": "7030228c",
   "metadata": {},
   "outputs": [],
   "source": [
    "car"
   ]
  },
  {
   "attachments": {},
   "cell_type": "markdown",
   "id": "121db9fb",
   "metadata": {},
   "source": [
    "Data Cleaning is over. Now it comes to the questions\n",
    "Check different types of make"
   ]
  },
  {
   "cell_type": "code",
   "execution_count": null,
   "id": "b7932eb5",
   "metadata": {},
   "outputs": [],
   "source": [
    "car['Make'].value_counts()"
   ]
  },
  {
   "cell_type": "raw",
   "id": "8848802d",
   "metadata": {},
   "source": [
    "2. Show all the records where origin is either Asia or Europe"
   ]
  },
  {
   "cell_type": "code",
   "execution_count": null,
   "id": "324c9626",
   "metadata": {},
   "outputs": [],
   "source": [
    "car.head(5)"
   ]
  },
  {
   "cell_type": "code",
   "execution_count": null,
   "id": "c1792b25",
   "metadata": {},
   "outputs": [],
   "source": [
    "car[car[\"Origin\"].isin(['Asia','Europe'])]"
   ]
  },
  {
   "cell_type": "raw",
   "id": "f687aca0",
   "metadata": {},
   "source": [
    "3.Remove all the records where weight is greater than 4000"
   ]
  },
  {
   "cell_type": "code",
   "execution_count": null,
   "id": "d523b18d",
   "metadata": {},
   "outputs": [],
   "source": [
    "car[~(car['Weight']> 4000)]"
   ]
  },
  {
   "cell_type": "raw",
   "id": "384e8a45",
   "metadata": {},
   "source": [
    "Increase MPG_City Value by 3"
   ]
  },
  {
   "cell_type": "code",
   "execution_count": null,
   "id": "2c4f8198",
   "metadata": {},
   "outputs": [],
   "source": [
    "car['MPG_City']= car['MPG_City'].apply(lambda x:x+3)\n",
    "car"
   ]
  }
 ],
 "metadata": {
  "kernelspec": {
   "display_name": "Python 3 (ipykernel)",
   "language": "python",
   "name": "python3"
  },
  "language_info": {
   "codemirror_mode": {
    "name": "ipython",
    "version": 3
   },
   "file_extension": ".py",
   "mimetype": "text/x-python",
   "name": "python",
   "nbconvert_exporter": "python",
   "pygments_lexer": "ipython3",
   "version": "3.9.7"
  }
 },
 "nbformat": 4,
 "nbformat_minor": 5
}
