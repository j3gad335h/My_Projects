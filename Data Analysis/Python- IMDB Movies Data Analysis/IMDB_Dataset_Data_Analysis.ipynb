{
 "cells": [
  {
   "attachments": {},
   "cell_type": "markdown",
   "metadata": {
    "id": "3_Fv7J8jTBlu"
   },
   "source": [
    "## You have been hired by a rookie movie producer to help him decide what type of movies to produce and which actors to cast. You have to back your recommendations based on thorough analysis of the data he shared with you which has the list of 3000 movies and the corresponding details.\n",
    "\n",
    "## As a data scientist, you have to first explore the data and check its sanity.\n",
    "\n",
    "## Further, you have to answer the following questions:\n",
    "1. ### <b> Which movie made the highest profit? Who were its producer and director? Identify the actors in that film.</b>\n",
    "2. ### <b>This data has information about movies made in different languages. Which language has the highest average ROI (return on investment)? </b>\n",
    "3. ### <b> Find out the unique genres of movies in this dataset.</b>\n",
    "4. ### <b> Make a table of all the producers and directors of each movie. Find the top 3 producers who have produced movies with the highest average RoI? </b>\n",
    "5. ### <b> Which actor has acted in the most number of movies? Deep dive into the movies, genres and profits corresponding to this actor. </b>\n",
    "6. ### <b>Top 3 directors prefer which actors the most? </b>\n",
    "\n"
   ]
  },
  {
   "attachments": {},
   "cell_type": "markdown",
   "metadata": {
    "id": "Fx8CVjtZW_BF"
   },
   "source": [
    "# Data Exploration"
   ]
  },
  {
   "cell_type": "code",
   "execution_count": null,
   "metadata": {
    "id": "vq7iMfybnKNP"
   },
   "outputs": [],
   "source": [
    "#Import package \n",
    "import pandas as pd\n",
    "import numpy as np\n",
    "import ast"
   ]
  },
  {
   "cell_type": "code",
   "execution_count": null,
   "metadata": {
    "colab": {
     "base_uri": "https://localhost:8080/"
    },
    "id": "R-ZKJndQkOh3",
    "outputId": "1f7b1072-dbaf-4687-e18a-bb8b081b83cc"
   },
   "outputs": [],
   "source": [
    "#mount drive\n",
    "from google.colab import drive\n",
    "drive.mount('/content/gdrive')"
   ]
  },
  {
   "cell_type": "code",
   "execution_count": null,
   "metadata": {
    "id": "u3D8SMO4kX-P"
   },
   "outputs": [],
   "source": [
    "file_path='/content/gdrive/MyDrive/Colab Notebooks/Datas/imdb_data.csv'\n",
    "df=pd.read_csv(file_path)"
   ]
  },
  {
   "cell_type": "code",
   "execution_count": null,
   "metadata": {
    "colab": {
     "base_uri": "https://localhost:8080/",
     "height": 615
    },
    "id": "eZcMneT6kr55",
    "outputId": "69637e3e-0ce9-4534-92b6-aa2d55638b2b"
   },
   "outputs": [],
   "source": [
    "df.head(4)"
   ]
  },
  {
   "cell_type": "code",
   "execution_count": null,
   "metadata": {
    "colab": {
     "base_uri": "https://localhost:8080/"
    },
    "id": "BkCmlZsklzGA",
    "outputId": "7e42a4be-aac4-4d2e-8a58-1a41b111b622"
   },
   "outputs": [],
   "source": [
    "df.info()"
   ]
  },
  {
   "attachments": {},
   "cell_type": "markdown",
   "metadata": {
    "id": "6A1gwFY9mYWP"
   },
   "source": [
    "**Extract Actors,directors,producers,genres from dataset**"
   ]
  },
  {
   "cell_type": "code",
   "execution_count": null,
   "metadata": {
    "id": "FjBGC0wGm9RI"
   },
   "outputs": [],
   "source": [
    "df1=df #Make duplicate dataframe\n",
    "try:\n",
    "  df1.crew=df.crew.fillna('[]').apply(ast.literal_eval)\n",
    "  df1.cast=df.cast.fillna('[]').apply(ast.literal_eval)\n",
    "  df1.genres=df.genres.fillna('[]').apply(ast.literal_eval)\n",
    "except:\n",
    "  print(\"Cant apply ast literal eval\")\n",
    "\n",
    "df1['new_cast']=df1.cast.apply(lambda x:[i['name']for i in x]if isinstance(x,list) else [])\n",
    "df1['new_genre']=df1.genres.apply(lambda x:[i['name']for i in x]if isinstance(x,list) else [])"
   ]
  },
  {
   "cell_type": "code",
   "execution_count": null,
   "metadata": {
    "id": "uj8whdr1yNAR"
   },
   "outputs": [],
   "source": [
    "def extract_data(data,column,condition):\n",
    "  lst=[]\n",
    "  for i in range(0,len(data)):\n",
    "    y=[]\n",
    "    for j in range(0,len(data[column][i])):\n",
    "      x=data[column][i]\n",
    "      if x[j]['job']==condition:\n",
    "        z=x[j]['name']\n",
    "        y.append(z)\n",
    "      \n",
    "    lst.append(y)\n",
    "  return lst"
   ]
  },
  {
   "cell_type": "code",
   "execution_count": null,
   "metadata": {
    "id": "LQ7hVAvPzvcC"
   },
   "outputs": [],
   "source": [
    "director=extract_data(df1,'crew','Director')\n",
    "producer=extract_data(df1,'crew','Producer')\n",
    "df1['director']=director\n",
    "df1['producer']=producer\n",
    "df1['profit']=df1['revenue']-df1['budget']\n",
    "df1['roi']=((df1['profit']/df1['budget']*100 )).round(3)\n",
    "df1.replace(np.inf,0,inplace=True)\n",
    "pd.options.display.float_format = '{:.4f}'.format\n"
   ]
  },
  {
   "cell_type": "code",
   "execution_count": null,
   "metadata": {
    "colab": {
     "base_uri": "https://localhost:8080/",
     "height": 278
    },
    "id": "d_Y_TQBA2s2T",
    "outputId": "da7da539-0ac0-4b48-8a02-fd26ff81c062"
   },
   "outputs": [],
   "source": [
    "df1.head(1)"
   ]
  },
  {
   "cell_type": "code",
   "execution_count": null,
   "metadata": {
    "colab": {
     "base_uri": "https://localhost:8080/",
     "height": 288
    },
    "id": "TT8NZw6-3eew",
    "outputId": "f5529e3e-3e16-433b-e413-fccd58ee80d6"
   },
   "outputs": [],
   "source": [
    "df_final=df1[['original_language','title','new_cast','new_genre','director','producer','profit','roi']]\n",
    "df_final.head(4)"
   ]
  },
  {
   "attachments": {},
   "cell_type": "markdown",
   "metadata": {
    "id": "uhdsKIv74k5v"
   },
   "source": [
    "**Which movie made the highest profit? Who were its producer and director? Identify the actors in that film**"
   ]
  },
  {
   "cell_type": "code",
   "execution_count": null,
   "metadata": {
    "colab": {
     "base_uri": "https://localhost:8080/",
     "height": 528
    },
    "id": "qK7QO5ar4msw",
    "outputId": "9bce649e-5465-4be8-8dfb-0c05647c7309"
   },
   "outputs": [],
   "source": [
    "top_gross=df_final.sort_values(by='profit',ascending=False).head(10).reset_index()\n",
    "top_gross['profit'] = top_gross['profit'].apply(\"{:,}\".format)\n",
    "top_gross[['title','producer','director','new_cast','profit']]"
   ]
  },
  {
   "attachments": {},
   "cell_type": "markdown",
   "metadata": {
    "id": "eNlDz1tU9wnH"
   },
   "source": [
    "**This data has information about movies made in different languages. Which language has the highest average ROI (return on investment)?**"
   ]
  },
  {
   "cell_type": "code",
   "execution_count": null,
   "metadata": {
    "id": "qiSekmF_EVn9"
   },
   "outputs": [],
   "source": [
    "roi=df1[['original_language','roi']]\n",
    "roi.replace(np.inf,0,inplace=True)\n",
    "lang=roi['original_language'].value_counts().rename_axis('original_language').reset_index(name='counts')\n",
    "roi_sum=roi.groupby('original_language').sum()\n",
    "data=pd.merge(roi_sum,lang,on='original_language')\n",
    "data['roi_avg'] = data['roi']/data['counts']\n",
    "data[['original_language','roi_avg']].sort_values(by='roi_avg',ascending=False)"
   ]
  },
  {
   "attachments": {},
   "cell_type": "markdown",
   "metadata": {
    "id": "npRfdt64LksK"
   },
   "source": [
    "**Find out the unique genres of movies in this dataset.**"
   ]
  },
  {
   "cell_type": "code",
   "execution_count": null,
   "metadata": {
    "colab": {
     "base_uri": "https://localhost:8080/",
     "height": 708
    },
    "id": "Gr8rFXhSLlzj",
    "outputId": "8641d6cc-0846-410f-e176-ae8fb4918ebf"
   },
   "outputs": [],
   "source": [
    "new_df=df_final.explode('new_genre')\n",
    "x=pd.DataFrame(list(new_df['new_genre'].unique()))\n",
    "x"
   ]
  },
  {
   "attachments": {},
   "cell_type": "markdown",
   "metadata": {
    "id": "sS99HO9AP4Yh"
   },
   "source": [
    "# **Which actor has acted in the most number of movies? Deep dive into the movies, genres and profits corresponding to this actor.**"
   ]
  },
  {
   "cell_type": "code",
   "execution_count": null,
   "metadata": {
    "colab": {
     "base_uri": "https://localhost:8080/",
     "height": 81
    },
    "id": "oRZKUKHbQIhc",
    "outputId": "e9a07912-76ce-44ff-a508-7ea83313c3ea"
   },
   "outputs": [],
   "source": [
    "df_final.head(1)"
   ]
  },
  {
   "cell_type": "code",
   "execution_count": null,
   "metadata": {
    "colab": {
     "base_uri": "https://localhost:8080/",
     "height": 143
    },
    "id": "Fb6uBWIMP5p6",
    "outputId": "2d26a6b9-2d35-4442-8740-f906791d0c21"
   },
   "outputs": [],
   "source": [
    "new_df = df_final.explode('new_cast').reset_index()\n",
    "top_actors = pd.DataFrame(new_df.new_cast.value_counts()).reset_index()\n",
    "top_actors.columns = ['Actors','Number Of Movies']\n",
    "top_actors.head(3)"
   ]
  },
  {
   "attachments": {},
   "cell_type": "markdown",
   "metadata": {
    "id": "GIc03jr_UPLh"
   },
   "source": [
    "# **Movies by Robert De Niro**"
   ]
  },
  {
   "cell_type": "code",
   "execution_count": null,
   "metadata": {
    "colab": {
     "base_uri": "https://localhost:8080/",
     "height": 112
    },
    "id": "m4IL1jbcT8Vr",
    "outputId": "a126a6f9-2539-4030-838e-4666c19d0560"
   },
   "outputs": [],
   "source": [
    "new_df.head(2)"
   ]
  },
  {
   "cell_type": "code",
   "execution_count": null,
   "metadata": {
    "id": "R0-8zcyfUlrg"
   },
   "outputs": [],
   "source": [
    "def eda(cast):\n",
    "  m=[]\n",
    "  for i in range(0,len(new_df)):\n",
    "    if new_df['new_cast'][i]==cast:\n",
    "      x=new_df['new_cast'][i]\n",
    "      y=new_df['title'][i]\n",
    "      z=new_df['new_genre'][i]\n",
    "      a=new_df['profit'][i]\n",
    "      l=[x,y,z,a]\n",
    "      m.append(l)\n",
    "  return m"
   ]
  },
  {
   "cell_type": "code",
   "execution_count": null,
   "metadata": {
    "colab": {
     "base_uri": "https://localhost:8080/",
     "height": 206
    },
    "id": "42oKcNsRV-Lp",
    "outputId": "b458d80c-c8bf-4f5e-a017-eb43dfb9e7bc"
   },
   "outputs": [],
   "source": [
    "m=eda('Robert De Niro')\n",
    "data=pd.DataFrame(m)\n",
    "data.columns=['actor','movie','genre','profit']\n",
    "data.sort_values(by='profit',ascending=False,inplace=True)\n",
    "data.loc[:, \"profit\"] =data[\"profit\"].map('{:,d}'.format)\n",
    "data.head(5)"
   ]
  },
  {
   "attachments": {},
   "cell_type": "markdown",
   "metadata": {
    "id": "g7b3TyJ5XmtJ"
   },
   "source": [
    "# **Movies by Samuel L. Jackson**"
   ]
  },
  {
   "cell_type": "code",
   "execution_count": null,
   "metadata": {
    "colab": {
     "base_uri": "https://localhost:8080/",
     "height": 206
    },
    "id": "4nwxc418Xsqw",
    "outputId": "2739fabe-f983-476f-8e4b-6ec7ca90b9a7"
   },
   "outputs": [],
   "source": [
    "m=eda('Samuel L. Jackson')\n",
    "data=pd.DataFrame(m)\n",
    "data.columns=['actor','movie','genre','profit']\n",
    "data.sort_values(by='profit',ascending=False,inplace=True)\n",
    "data.loc[:, \"profit\"] =data[\"profit\"].map('{:,d}'.format)\n",
    "data.head(5)"
   ]
  },
  {
   "attachments": {},
   "cell_type": "markdown",
   "metadata": {
    "id": "bp9B6EieXwsq"
   },
   "source": [
    "# **Movies by Morgan Freeman**\t"
   ]
  },
  {
   "cell_type": "code",
   "execution_count": null,
   "metadata": {
    "colab": {
     "base_uri": "https://localhost:8080/",
     "height": 206
    },
    "id": "-_IJG6boX2Nn",
    "outputId": "6f94fbc4-22dd-4766-a794-44da870c744b"
   },
   "outputs": [],
   "source": [
    "m=eda('Morgan Freeman')\n",
    "data=pd.DataFrame(m)\n",
    "data.columns=['actor','movie','genre','profit']\n",
    "data.sort_values(by='profit',ascending=False,inplace=True)\n",
    "data.loc[:, \"profit\"] =data[\"profit\"].map('{:,d}'.format)\n",
    "data.head(5)"
   ]
  },
  {
   "attachments": {},
   "cell_type": "markdown",
   "metadata": {
    "id": "IZhvzsTfZNgn"
   },
   "source": [
    "# **Make a table of all the producers and directors of each movie. Find the top 3 producers who have produced movies with the highest average RoI?**"
   ]
  },
  {
   "cell_type": "code",
   "execution_count": null,
   "metadata": {
    "colab": {
     "base_uri": "https://localhost:8080/",
     "height": 424
    },
    "id": "bVe9sAfgZPGH",
    "outputId": "18fcb5e0-36b9-497c-cbd1-f5350d8368a9"
   },
   "outputs": [],
   "source": [
    "df_final[['title','director','producer']]"
   ]
  },
  {
   "cell_type": "code",
   "execution_count": null,
   "metadata": {
    "colab": {
     "base_uri": "https://localhost:8080/",
     "height": 1000
    },
    "id": "asXEawkqfGNX",
    "outputId": "fb67e454-7b03-4b15-f121-697264721f94"
   },
   "outputs": [],
   "source": [
    "df1"
   ]
  },
  {
   "cell_type": "code",
   "execution_count": null,
   "metadata": {
    "colab": {
     "base_uri": "https://localhost:8080/",
     "height": 143
    },
    "id": "90bzg6K6ZklQ",
    "outputId": "8cfc4974-5459-480a-dded-f01c10dd845c"
   },
   "outputs": [],
   "source": [
    "df2=df_final.explode('producer').reset_index()\n",
    "df2.replace(np.inf,0,inplace=True)\n",
    "df3=df2['producer'].value_counts().reset_index()\n",
    "df4=df2.groupby('producer').sum().reset_index()\n",
    "df3.columns=['producer','counts']\n",
    "data=pd.merge(df3,df4,on='producer')\n",
    "data['avg_roi']=data['roi']/data['counts']\n",
    "data[['producer','avg_roi']].sort_values(by='avg_roi',ascending=False).head(3)"
   ]
  },
  {
   "attachments": {},
   "cell_type": "markdown",
   "metadata": {
    "id": "KHGHmHpudsbI"
   },
   "source": [
    "# **Top 3 directors prefer which actors the most?**"
   ]
  },
  {
   "cell_type": "code",
   "execution_count": null,
   "metadata": {
    "colab": {
     "base_uri": "https://localhost:8080/",
     "height": 278
    },
    "id": "oi1FJzuHejkP",
    "outputId": "28c45423-6875-45c8-971e-99cec46f1f73"
   },
   "outputs": [],
   "source": [
    "df1.head(1)"
   ]
  },
  {
   "cell_type": "code",
   "execution_count": null,
   "metadata": {
    "id": "rJvC0UDYf6iG"
   },
   "outputs": [],
   "source": [
    "#convert list\n",
    "def list_to_string(s):\n",
    "    if len(s)>1:\n",
    "        x=s[0]\n",
    "        for i in range(1,len(s)):\n",
    "            x=x+','+s[i]\n",
    "    elif len(s)==1:\n",
    "        x=s[0]\n",
    "    else:\n",
    "        x=''\n",
    "    return x\n",
    "\n",
    "lis=[]\n",
    "for i in range(0,len(df1)):\n",
    "  s=df1['director'][i]\n",
    "  x=list_to_string(s)\n",
    "  lis.append(x)"
   ]
  },
  {
   "cell_type": "code",
   "execution_count": null,
   "metadata": {
    "colab": {
     "base_uri": "https://localhost:8080/",
     "height": 143
    },
    "id": "8hwL1DtcnFE2",
    "outputId": "be442137-81fd-41ef-e5ce-bad50801b3f1"
   },
   "outputs": [],
   "source": [
    "df1['director']=lis\n",
    "data=df1.groupby('director')['popularity'].mean().sort_values(ascending=False).reset_index()\n",
    "data.head(3)"
   ]
  },
  {
   "cell_type": "code",
   "execution_count": null,
   "metadata": {
    "id": "Hhpw1f2_o5qD"
   },
   "outputs": [],
   "source": [
    "data_explode=df1.explode('new_cast').reset_index()\n",
    "data_explode.head(5)"
   ]
  },
  {
   "cell_type": "code",
   "execution_count": null,
   "metadata": {
    "id": "6h0l2atypKSW"
   },
   "outputs": [],
   "source": [
    "def dir_pref(data,condition):\n",
    "  x=[]\n",
    "  for i in range(0,len(data)):\n",
    "    if data['director'][i]==condition:\n",
    "      s=data['new_cast'][i]\n",
    "      x.append(s)\n",
    "  return x\n",
    "  "
   ]
  },
  {
   "attachments": {},
   "cell_type": "markdown",
   "metadata": {
    "id": "YmLSs2Riqqhi"
   },
   "source": [
    "**Tim Miller**"
   ]
  },
  {
   "cell_type": "code",
   "execution_count": null,
   "metadata": {
    "colab": {
     "base_uri": "https://localhost:8080/"
    },
    "id": "mR8DbGhJqrkL",
    "outputId": "85ae45a8-7599-40e8-b351-27b55aa718c6"
   },
   "outputs": [],
   "source": [
    "x=dir_pref(data_explode,'Tim Miller')\n",
    "x=list(set(x))\n",
    "x"
   ]
  },
  {
   "attachments": {},
   "cell_type": "markdown",
   "metadata": {
    "id": "k4TBlAIKqxDE"
   },
   "source": [
    "**Edgar Wright**"
   ]
  },
  {
   "cell_type": "code",
   "execution_count": null,
   "metadata": {
    "colab": {
     "base_uri": "https://localhost:8080/"
    },
    "id": "6f581rCWqyJr",
    "outputId": "b196fcae-1682-48da-c1d7-09b270ac3dcb"
   },
   "outputs": [],
   "source": [
    "x=dir_pref(data_explode,'Edgar Wright')\n",
    "x=list(set(x))\n",
    "x"
   ]
  },
  {
   "attachments": {},
   "cell_type": "markdown",
   "metadata": {
    "id": "pLvvgr8SqkyF"
   },
   "source": [
    "**James Gunn**"
   ]
  },
  {
   "cell_type": "code",
   "execution_count": null,
   "metadata": {
    "colab": {
     "base_uri": "https://localhost:8080/"
    },
    "id": "Cm2KhMLNp4St",
    "outputId": "2e4dc178-a0b1-4041-ce05-fbf3fbe111a2"
   },
   "outputs": [],
   "source": [
    "x=dir_pref(data_explode,'James Gunn')\n",
    "x=list(set(x))\n",
    "x"
   ]
  }
 ],
 "metadata": {
  "colab": {
   "collapsed_sections": [],
   "name": "M1W3 - Guided Project - EDA on IMDB Dataset.ipynb",
   "provenance": []
  },
  "kernelspec": {
   "display_name": "Python 3.9.7 ('base')",
   "language": "python",
   "name": "python3"
  },
  "language_info": {
   "codemirror_mode": {
    "name": "ipython",
    "version": 3
   },
   "file_extension": ".py",
   "mimetype": "text/x-python",
   "name": "python",
   "nbconvert_exporter": "python",
   "pygments_lexer": "ipython3",
   "version": "3.9.7"
  },
  "nbTranslate": {
   "displayLangs": [
    "*"
   ],
   "hotkey": "alt-t",
   "langInMainMenu": true,
   "sourceLang": "en",
   "targetLang": "fr",
   "useGoogleTranslate": true
  },
  "toc": {
   "base_numbering": 1,
   "nav_menu": {},
   "number_sections": true,
   "sideBar": true,
   "skip_h1_title": false,
   "title_cell": "Table of Contents",
   "title_sidebar": "Contents",
   "toc_cell": false,
   "toc_position": {},
   "toc_section_display": true,
   "toc_window_display": false
  },
  "varInspector": {
   "cols": {
    "lenName": 16,
    "lenType": 16,
    "lenVar": 40
   },
   "kernels_config": {
    "python": {
     "delete_cmd_postfix": "",
     "delete_cmd_prefix": "del ",
     "library": "var_list.py",
     "varRefreshCmd": "print(var_dic_list())"
    },
    "r": {
     "delete_cmd_postfix": ") ",
     "delete_cmd_prefix": "rm(",
     "library": "var_list.r",
     "varRefreshCmd": "cat(var_dic_list()) "
    }
   },
   "types_to_exclude": [
    "module",
    "function",
    "builtin_function_or_method",
    "instance",
    "_Feature"
   ],
   "window_display": false
  },
  "vscode": {
   "interpreter": {
    "hash": "1cf5e75b0e4bd370571f128ba2b6b170b7e732dff923a3177a8a5c1a0dcf2340"
   }
  }
 },
 "nbformat": 4,
 "nbformat_minor": 1
}
